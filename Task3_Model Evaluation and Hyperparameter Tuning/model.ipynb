{
 "cells": [
  {
   "cell_type": "code",
   "execution_count": 1,
   "id": "d9bfc480",
   "metadata": {},
   "outputs": [],
   "source": [
    "import pandas as pd\n",
    "import numpy as np\n",
    "import matplotlib.pyplot as plt\n",
    "import seaborn as sns\n",
    "\n",
    "from sklearn.model_selection import train_test_split, GridSearchCV\n",
    "from sklearn.preprocessing import LabelEncoder, StandardScaler\n",
    "from sklearn.ensemble import RandomForestRegressor\n",
    "from sklearn.metrics import mean_squared_error, r2_score\n"
   ]
  },
  {
   "cell_type": "code",
   "execution_count": 2,
   "id": "8a8be022",
   "metadata": {},
   "outputs": [
    {
     "name": "stdout",
     "output_type": "stream",
     "text": [
      "   gender race/ethnicity parental level of education         lunch  \\\n",
      "0  female        group B           bachelor's degree      standard   \n",
      "1  female        group C                some college      standard   \n",
      "2  female        group B             master's degree      standard   \n",
      "3    male        group A          associate's degree  free/reduced   \n",
      "4    male        group C                some college      standard   \n",
      "\n",
      "  test preparation course  math score  reading score  writing score  \n",
      "0                    none          72             72             74  \n",
      "1               completed          69             90             88  \n",
      "2                    none          90             95             93  \n",
      "3                    none          47             57             44  \n",
      "4                    none          76             78             75  \n"
     ]
    }
   ],
   "source": [
    "df = pd.read_csv('StudentsPerformance.csv')\n",
    "# Display the first few rows of the dataset\n",
    "print(df.head())"
   ]
  },
  {
   "cell_type": "code",
   "execution_count": 3,
   "id": "c16c1970",
   "metadata": {},
   "outputs": [
    {
     "name": "stdout",
     "output_type": "stream",
     "text": [
      "<class 'pandas.core.frame.DataFrame'>\n",
      "RangeIndex: 1000 entries, 0 to 999\n",
      "Data columns (total 8 columns):\n",
      " #   Column                       Non-Null Count  Dtype \n",
      "---  ------                       --------------  ----- \n",
      " 0   gender                       1000 non-null   object\n",
      " 1   race/ethnicity               1000 non-null   object\n",
      " 2   parental level of education  1000 non-null   object\n",
      " 3   lunch                        1000 non-null   object\n",
      " 4   test preparation course      1000 non-null   object\n",
      " 5   math score                   1000 non-null   int64 \n",
      " 6   reading score                1000 non-null   int64 \n",
      " 7   writing score                1000 non-null   int64 \n",
      "dtypes: int64(3), object(5)\n",
      "memory usage: 62.6+ KB\n",
      "None\n",
      "gender                         0\n",
      "race/ethnicity                 0\n",
      "parental level of education    0\n",
      "lunch                          0\n",
      "test preparation course        0\n",
      "math score                     0\n",
      "reading score                  0\n",
      "writing score                  0\n",
      "dtype: int64\n"
     ]
    }
   ],
   "source": [
    "print(df.info())\n",
    "\n",
    "print(df.isnull().sum())"
   ]
  },
  {
   "cell_type": "code",
   "execution_count": 4,
   "id": "c824a777",
   "metadata": {},
   "outputs": [
    {
     "data": {
      "application/vnd.microsoft.datawrangler.viewer.v0+json": {
       "columns": [
        {
         "name": "index",
         "rawType": "object",
         "type": "string"
        },
        {
         "name": "math score",
         "rawType": "float64",
         "type": "float"
        },
        {
         "name": "reading score",
         "rawType": "float64",
         "type": "float"
        },
        {
         "name": "writing score",
         "rawType": "float64",
         "type": "float"
        }
       ],
       "ref": "ea2d9c2f-679d-4746-8c7d-9f749d83006c",
       "rows": [
        [
         "count",
         "1000.0",
         "1000.0",
         "1000.0"
        ],
        [
         "mean",
         "66.089",
         "69.169",
         "68.054"
        ],
        [
         "std",
         "15.163080096009468",
         "14.60019193725222",
         "15.195657010869642"
        ],
        [
         "min",
         "0.0",
         "17.0",
         "10.0"
        ],
        [
         "25%",
         "57.0",
         "59.0",
         "57.75"
        ],
        [
         "50%",
         "66.0",
         "70.0",
         "69.0"
        ],
        [
         "75%",
         "77.0",
         "79.0",
         "79.0"
        ],
        [
         "max",
         "100.0",
         "100.0",
         "100.0"
        ]
       ],
       "shape": {
        "columns": 3,
        "rows": 8
       }
      },
      "text/html": [
       "<div>\n",
       "<style scoped>\n",
       "    .dataframe tbody tr th:only-of-type {\n",
       "        vertical-align: middle;\n",
       "    }\n",
       "\n",
       "    .dataframe tbody tr th {\n",
       "        vertical-align: top;\n",
       "    }\n",
       "\n",
       "    .dataframe thead th {\n",
       "        text-align: right;\n",
       "    }\n",
       "</style>\n",
       "<table border=\"1\" class=\"dataframe\">\n",
       "  <thead>\n",
       "    <tr style=\"text-align: right;\">\n",
       "      <th></th>\n",
       "      <th>math score</th>\n",
       "      <th>reading score</th>\n",
       "      <th>writing score</th>\n",
       "    </tr>\n",
       "  </thead>\n",
       "  <tbody>\n",
       "    <tr>\n",
       "      <th>count</th>\n",
       "      <td>1000.00000</td>\n",
       "      <td>1000.000000</td>\n",
       "      <td>1000.000000</td>\n",
       "    </tr>\n",
       "    <tr>\n",
       "      <th>mean</th>\n",
       "      <td>66.08900</td>\n",
       "      <td>69.169000</td>\n",
       "      <td>68.054000</td>\n",
       "    </tr>\n",
       "    <tr>\n",
       "      <th>std</th>\n",
       "      <td>15.16308</td>\n",
       "      <td>14.600192</td>\n",
       "      <td>15.195657</td>\n",
       "    </tr>\n",
       "    <tr>\n",
       "      <th>min</th>\n",
       "      <td>0.00000</td>\n",
       "      <td>17.000000</td>\n",
       "      <td>10.000000</td>\n",
       "    </tr>\n",
       "    <tr>\n",
       "      <th>25%</th>\n",
       "      <td>57.00000</td>\n",
       "      <td>59.000000</td>\n",
       "      <td>57.750000</td>\n",
       "    </tr>\n",
       "    <tr>\n",
       "      <th>50%</th>\n",
       "      <td>66.00000</td>\n",
       "      <td>70.000000</td>\n",
       "      <td>69.000000</td>\n",
       "    </tr>\n",
       "    <tr>\n",
       "      <th>75%</th>\n",
       "      <td>77.00000</td>\n",
       "      <td>79.000000</td>\n",
       "      <td>79.000000</td>\n",
       "    </tr>\n",
       "    <tr>\n",
       "      <th>max</th>\n",
       "      <td>100.00000</td>\n",
       "      <td>100.000000</td>\n",
       "      <td>100.000000</td>\n",
       "    </tr>\n",
       "  </tbody>\n",
       "</table>\n",
       "</div>"
      ],
      "text/plain": [
       "       math score  reading score  writing score\n",
       "count  1000.00000    1000.000000    1000.000000\n",
       "mean     66.08900      69.169000      68.054000\n",
       "std      15.16308      14.600192      15.195657\n",
       "min       0.00000      17.000000      10.000000\n",
       "25%      57.00000      59.000000      57.750000\n",
       "50%      66.00000      70.000000      69.000000\n",
       "75%      77.00000      79.000000      79.000000\n",
       "max     100.00000     100.000000     100.000000"
      ]
     },
     "execution_count": 4,
     "metadata": {},
     "output_type": "execute_result"
    }
   ],
   "source": [
    "df.describe()"
   ]
  },
  {
   "cell_type": "code",
   "execution_count": 5,
   "id": "5bd8243d",
   "metadata": {},
   "outputs": [
    {
     "name": "stdout",
     "output_type": "stream",
     "text": [
      "\n",
      "gender:\n",
      " female    518\n",
      "male      482\n",
      "Name: gender, dtype: int64\n",
      "\n",
      "race/ethnicity:\n",
      " group C    319\n",
      "group D    262\n",
      "group B    190\n",
      "group E    140\n",
      "group A     89\n",
      "Name: race/ethnicity, dtype: int64\n",
      "\n",
      "parental level of education:\n",
      " some college          226\n",
      "associate's degree    222\n",
      "high school           196\n",
      "some high school      179\n",
      "bachelor's degree     118\n",
      "master's degree        59\n",
      "Name: parental level of education, dtype: int64\n",
      "\n",
      "lunch:\n",
      " standard        645\n",
      "free/reduced    355\n",
      "Name: lunch, dtype: int64\n",
      "\n",
      "test preparation course:\n",
      " none         642\n",
      "completed    358\n",
      "Name: test preparation course, dtype: int64\n"
     ]
    }
   ],
   "source": [
    "for col in ['gender', 'race/ethnicity', 'parental level of education', 'lunch', 'test preparation course']:\n",
    "    print(f\"\\n{col}:\\n\", df[col].value_counts())\n"
   ]
  },
  {
   "cell_type": "code",
   "execution_count": 6,
   "id": "dea5d809",
   "metadata": {},
   "outputs": [
    {
     "data": {
      "image/png": "[encoded data removed]",
      "text/plain": [
       "<Figure size 1200x500 with 4 Axes>"
      ]
     },
     "metadata": {},
     "output_type": "display_data"
    }
   ],
   "source": [
    "df[['math score', 'reading score', 'writing score']].hist(bins=15, figsize=(12, 5))\n",
    "plt.tight_layout()\n",
    "plt.show()\n"
   ]
  },
  {
   "cell_type": "markdown",
   "id": "d65ea47b",
   "metadata": {},
   "source": [
    "## What this shows:\n",
    " plotted distributions of:\n",
    "\n",
    "math score\n",
    "reading score\n",
    "writing score\n",
    "\n",
    "Each histogram shows how scores are spread out among students.\n",
    "\n",
    "Interpretation:\n",
    "All 3 subjects show a roughly normal distribution, but slightly left-skewed — i.e., most students scored around 60–80.\n",
    "\n",
    "Few students scored very low (e.g., <20) or very high (e.g., near 100), but such cases are rare.\n",
    "\n",
    "This tells us there’s consistency in student performance, with average scores clustering around the middle-high range."
   ]
  },
  {
   "cell_type": "code",
   "execution_count": null,
   "id": "3f580cbc",
   "metadata": {},
   "outputs": [],
   "source": []
  },
  {
   "cell_type": "code",
   "execution_count": 7,
   "id": "65ed0135",
   "metadata": {},
   "outputs": [
    {
     "data": {
      "image/png": "[encoded data removed]",
      "text/plain": [
       "<Figure size 1200x400 with 3 Axes>"
      ]
     },
     "metadata": {},
     "output_type": "display_data"
    }
   ],
   "source": [
    "plt.figure(figsize=(12, 4))\n",
    "for i, col in enumerate(['math score', 'reading score', 'writing score']):\n",
    "    plt.subplot(1, 3, i+1)\n",
    "    sns.boxplot(y=df[col])\n",
    "    plt.title(col)\n",
    "plt.tight_layout()\n",
    "plt.show()\n"
   ]
  },
  {
   "cell_type": "markdown",
   "id": "a5423960",
   "metadata": {},
   "source": [
    "## What this shows:\n",
    "\n",
    "Plotted boxplots for each subject, which gives:\n",
    "\n",
    "Median (middle line)\n",
    "Interquartile range (IQR)\n",
    "Outliers (dots)\n",
    "\n",
    "Interpretation:\n",
    "\n",
    "Math score:\n",
    "Median: ~65\n",
    "Lower outliers are present (scores < 20)\n",
    "\n",
    "Reading score:\n",
    "Median: ~70\n",
    "Some lower outliers, but fewer than math\n",
    "\n",
    "Writing score:\n",
    "Median: ~70\n",
    "Again, lower outliers visible\n",
    "\n",
    "Key takeaway:\n",
    "\n",
    "1. Most students score between 60–80.\n",
    "\n",
    "2. A few students significantly underperform (visible as outliers), especially in math.\n",
    "\n",
    "3. No upper outliers, meaning nobody scored too high outside range."
   ]
  },
  {
   "cell_type": "code",
   "execution_count": null,
   "id": "feb6696f",
   "metadata": {},
   "outputs": [],
   "source": []
  },
  {
   "cell_type": "code",
   "execution_count": 8,
   "id": "84d13e86",
   "metadata": {},
   "outputs": [
    {
     "data": {
      "image/png": "[encoded data removed]",
      "text/plain": [
       "<Figure size 640x480 with 2 Axes>"
      ]
     },
     "metadata": {},
     "output_type": "display_data"
    }
   ],
   "source": [
    "corr = df[['math score', 'reading score', 'writing score']].corr()\n",
    "sns.heatmap(corr, annot=True, cmap='coolwarm')\n",
    "plt.title(\"Correlation between Scores\")\n",
    "plt.show()\n"
   ]
  },
  {
   "cell_type": "markdown",
   "id": "f40b5906",
   "metadata": {},
   "source": [
    "## What this shows:\n",
    "Generated a correlation matrix between:\n",
    "\n",
    "Math score\n",
    "Reading score\n",
    "Writing score\n",
    "\n",
    "Interpretation:\n",
    "\n",
    "1. math vs reading → 0.82 correlation → strong positive\n",
    "2. reading vs writing → 0.95 correlation → very strong\n",
    "3. math vs writing → 0.80 correlation → strong\n",
    "\n",
    "Key takeaway:\n",
    "\n",
    "Students who perform well in reading tend to also do well in writing — makes sense since they’re closely related language skills.\n",
    "\n",
    "Math is also strongly related to the other two, though slightly less than reading-writing.\n",
    "\n"
   ]
  },
  {
   "cell_type": "code",
   "execution_count": null,
   "id": "215c05aa",
   "metadata": {},
   "outputs": [],
   "source": []
  },
  {
   "cell_type": "code",
   "execution_count": 9,
   "id": "618fc298",
   "metadata": {},
   "outputs": [
    {
     "data": {
      "application/vnd.microsoft.datawrangler.viewer.v0+json": {
       "columns": [
        {
         "name": "index",
         "rawType": "object",
         "type": "string"
        },
        {
         "name": "0",
         "rawType": "int64",
         "type": "integer"
        }
       ],
       "ref": "c1e6917a-c1bb-405a-97a4-c43c06629a10",
       "rows": [
        [
         "gender",
         "0"
        ],
        [
         "race/ethnicity",
         "0"
        ],
        [
         "parental level of education",
         "0"
        ],
        [
         "lunch",
         "0"
        ],
        [
         "test preparation course",
         "0"
        ],
        [
         "math score",
         "0"
        ],
        [
         "reading score",
         "0"
        ],
        [
         "writing score",
         "0"
        ]
       ],
       "shape": {
        "columns": 1,
        "rows": 8
       }
      },
      "text/plain": [
       "gender                         0\n",
       "race/ethnicity                 0\n",
       "parental level of education    0\n",
       "lunch                          0\n",
       "test preparation course        0\n",
       "math score                     0\n",
       "reading score                  0\n",
       "writing score                  0\n",
       "dtype: int64"
      ]
     },
     "execution_count": 9,
     "metadata": {},
     "output_type": "execute_result"
    }
   ],
   "source": [
    "df.isnull().sum()\n"
   ]
  },
  {
   "cell_type": "markdown",
   "id": "c6980edb",
   "metadata": {},
   "source": [
    "# Encoding all the categorical data"
   ]
  },
  {
   "cell_type": "code",
   "execution_count": 10,
   "id": "5c0fc173",
   "metadata": {},
   "outputs": [
    {
     "name": "stdout",
     "output_type": "stream",
     "text": [
      "Index(['gender', 'race/ethnicity', 'parental level of education', 'lunch',\n",
      "       'test preparation course'],\n",
      "      dtype='object')\n"
     ]
    }
   ],
   "source": [
    "categorical_columns = df.select_dtypes(include=['object', 'category']).columns\n",
    "print(categorical_columns)\n"
   ]
  },
  {
   "cell_type": "code",
   "execution_count": 11,
   "id": "a1183405",
   "metadata": {},
   "outputs": [
    {
     "name": "stdout",
     "output_type": "stream",
     "text": [
      "   gender  lunch  test preparation course  math score  reading score  \\\n",
      "0       0      1                        1          72             72   \n",
      "1       0      1                        0          69             90   \n",
      "2       0      1                        1          90             95   \n",
      "3       1      0                        1          47             57   \n",
      "4       1      1                        1          76             78   \n",
      "\n",
      "   writing score  race/ethnicity_group B  race/ethnicity_group C  \\\n",
      "0             74                       1                       0   \n",
      "1             88                       0                       1   \n",
      "2             93                       1                       0   \n",
      "3             44                       0                       0   \n",
      "4             75                       0                       1   \n",
      "\n",
      "   race/ethnicity_group D  race/ethnicity_group E  \\\n",
      "0                       0                       0   \n",
      "1                       0                       0   \n",
      "2                       0                       0   \n",
      "3                       0                       0   \n",
      "4                       0                       0   \n",
      "\n",
      "   parental level of education_bachelor's degree  \\\n",
      "0                                              1   \n",
      "1                                              0   \n",
      "2                                              0   \n",
      "3                                              0   \n",
      "4                                              0   \n",
      "\n",
      "   parental level of education_high school  \\\n",
      "0                                        0   \n",
      "1                                        0   \n",
      "2                                        0   \n",
      "3                                        0   \n",
      "4                                        0   \n",
      "\n",
      "   parental level of education_master's degree  \\\n",
      "0                                            0   \n",
      "1                                            0   \n",
      "2                                            1   \n",
      "3                                            0   \n",
      "4                                            0   \n",
      "\n",
      "   parental level of education_some college  \\\n",
      "0                                         0   \n",
      "1                                         1   \n",
      "2                                         0   \n",
      "3                                         0   \n",
      "4                                         1   \n",
      "\n",
      "   parental level of education_some high school  \n",
      "0                                             0  \n",
      "1                                             0  \n",
      "2                                             0  \n",
      "3                                             0  \n",
      "4                                             0  \n",
      "gender                                           int32\n",
      "lunch                                            int32\n",
      "test preparation course                          int32\n",
      "math score                                       int64\n",
      "reading score                                    int64\n",
      "writing score                                    int64\n",
      "race/ethnicity_group B                           uint8\n",
      "race/ethnicity_group C                           uint8\n",
      "race/ethnicity_group D                           uint8\n",
      "race/ethnicity_group E                           uint8\n",
      "parental level of education_bachelor's degree    uint8\n",
      "parental level of education_high school          uint8\n",
      "parental level of education_master's degree      uint8\n",
      "parental level of education_some college         uint8\n",
      "parental level of education_some high school     uint8\n",
      "dtype: object\n"
     ]
    }
   ],
   "source": [
    "import pandas as pd\n",
    "from sklearn.preprocessing import LabelEncoder\n",
    "\n",
    "# Copy of original DataFrame\n",
    "df_encoded = df.copy()\n",
    "\n",
    "# Label Encoding for binary columns\n",
    "label_cols = ['gender', 'lunch', 'test preparation course']\n",
    "le = LabelEncoder()\n",
    "for col in label_cols:\n",
    "    df_encoded[col] = le.fit_transform(df_encoded[col])\n",
    "\n",
    "# One-Hot Encoding for nominal categorical columns\n",
    "df_encoded = pd.get_dummies(df_encoded, columns=['race/ethnicity', 'parental level of education'], drop_first=True)\n",
    "\n",
    "# Final check\n",
    "print(df_encoded.head())\n",
    "print(df_encoded.dtypes)\n"
   ]
  },
  {
   "cell_type": "markdown",
   "id": "afdd1331",
   "metadata": {},
   "source": [
    "### Feature-Target Split\n",
    "\n",
    "We begin by separating the dataset into features (`X`) and target (`y`). This is essential for supervised learning, where we train models to predict the target using given input features.\n",
    "\n",
    "- **Features (`X`)**: All columns except `math score`\n",
    "- **Target (`y`)**: `math score`\n",
    "\n",
    "This split enables the model to learn patterns from the features and predict the target.\n"
   ]
  },
  {
   "cell_type": "code",
   "execution_count": 12,
   "id": "0b07ffcc",
   "metadata": {},
   "outputs": [
    {
     "name": "stdout",
     "output_type": "stream",
     "text": [
      "Shape of X: (1000, 7)\n",
      "Shape of y: (1000,)\n"
     ]
    }
   ],
   "source": [
    "\n",
    "# Set the target variable\n",
    "y = df['math score']\n",
    "\n",
    "# Set the feature variables by dropping the target column\n",
    "X = df.drop(columns=['math score'])\n",
    "\n",
    "# Check the shape\n",
    "print(\"Shape of X:\", X.shape)\n",
    "print(\"Shape of y:\", y.shape)\n",
    "\n",
    "# X contains 7 features (independent variables) for 1000 samples.\n",
    "# y contains the target variable (math_score) for the same 1000 samples."
   ]
  },
  {
   "cell_type": "code",
   "execution_count": 13,
   "id": "43de26a5",
   "metadata": {},
   "outputs": [
    {
     "name": "stdout",
     "output_type": "stream",
     "text": [
      "Shape of X_train: (800, 7)\n",
      "Shape of X_test: (200, 7)\n",
      "Shape of y_train: (800,)\n",
      "Shape of y_test: (200,)\n"
     ]
    }
   ],
   "source": [
    "from sklearn.model_selection import train_test_split\n",
    "\n",
    "# Split the data into training and testing sets (80% train, 20% test)\n",
    "X_train, X_test, y_train, y_test = train_test_split(X, y, test_size=0.2, random_state=42)\n",
    "\n",
    "# Print shapes to confirm the split\n",
    "print(\"Shape of X_train:\", X_train.shape)\n",
    "print(\"Shape of X_test:\", X_test.shape)\n",
    "print(\"Shape of y_train:\", y_train.shape)\n",
    "print(\"Shape of y_test:\", y_test.shape)\n",
    "\n",
    "\n",
    "# X_train → 800 rows (training features)\n",
    "# X_test → 200 rows (testing features)\n",
    "# y_train → 800 values (training target: math scores)\n",
    "# y_test → 200 values (testing target: math scores)"
   ]
  },
  {
   "cell_type": "code",
   "execution_count": 14,
   "id": "7d0d425d",
   "metadata": {},
   "outputs": [
    {
     "name": "stdout",
     "output_type": "stream",
     "text": [
      "Encoded feature columns:\n",
      " Index(['reading score', 'writing score', 'gender_male',\n",
      "       'race/ethnicity_group B', 'race/ethnicity_group C',\n",
      "       'race/ethnicity_group D', 'race/ethnicity_group E',\n",
      "       'parental level of education_bachelor's degree',\n",
      "       'parental level of education_high school',\n",
      "       'parental level of education_master's degree',\n",
      "       'parental level of education_some college',\n",
      "       'parental level of education_some high school', 'lunch_standard',\n",
      "       'test preparation course_none'],\n",
      "      dtype='object')\n"
     ]
    }
   ],
   "source": [
    "# Encode categorical variables using One-Hot Encoding\n",
    "X_encoded = pd.get_dummies(X, drop_first=True)\n",
    "\n",
    "# Show encoded features\n",
    "print(\"Encoded feature columns:\\n\", X_encoded.columns)\n",
    "\n",
    "# Update X with encoded data\n",
    "X = X_encoded\n"
   ]
  },
  {
   "cell_type": "code",
   "execution_count": 15,
   "id": "07241b5d",
   "metadata": {},
   "outputs": [],
   "source": [
    "# Train-test split again (after encoding)\n",
    "X_train, X_test, y_train, y_test = train_test_split(X, y, test_size=0.2, random_state=42)\n",
    "\n",
    "# Now train your models (Linear Regression, Ridge, Lasso, etc.)\n"
   ]
  },
  {
   "cell_type": "code",
   "execution_count": 16,
   "id": "2549a8a8",
   "metadata": {},
   "outputs": [
    {
     "name": "stdout",
     "output_type": "stream",
     "text": [
      "Model Performance Comparison:\n",
      "\n",
      "                   Model   MAE    MSE  RMSE  R2 Score\n",
      "0      Linear Regression  4.21  29.10  5.39    0.8804\n",
      "1       Ridge Regression  4.21  29.12  5.40    0.8803\n",
      "6      Gradient Boosting  4.28  30.91  5.56    0.8730\n",
      "5          Random Forest  4.64  35.59  5.97    0.8537\n",
      "2       Lasso Regression  5.02  40.49  6.36    0.8336\n",
      "3  ElasticNet Regression  6.17  57.63  7.59    0.7632\n",
      "4          Decision Tree  6.52  68.44  8.27    0.7187\n"
     ]
    },
    {
     "data": {
      "image/png": "[encoded data removed]",
      "text/plain": [
       "<Figure size 1000x500 with 1 Axes>"
      ]
     },
     "metadata": {},
     "output_type": "display_data"
    }
   ],
   "source": [
    "from sklearn.linear_model import LinearRegression, Ridge, Lasso, ElasticNet\n",
    "from sklearn.tree import DecisionTreeRegressor\n",
    "from sklearn.ensemble import RandomForestRegressor, GradientBoostingRegressor\n",
    "from sklearn.metrics import mean_absolute_error, mean_squared_error, r2_score\n",
    "import pandas as pd\n",
    "import numpy as np\n",
    "\n",
    "# Define models\n",
    "models = {\n",
    "    \"Linear Regression\": LinearRegression(),\n",
    "    \"Ridge Regression\": Ridge(),\n",
    "    \"Lasso Regression\": Lasso(),\n",
    "    \"ElasticNet Regression\": ElasticNet(),\n",
    "    \"Decision Tree\": DecisionTreeRegressor(),\n",
    "    \"Random Forest\": RandomForestRegressor(),\n",
    "    \"Gradient Boosting\": GradientBoostingRegressor()\n",
    "}\n",
    "\n",
    "# Dictionary to store results\n",
    "results = []\n",
    "\n",
    "# Loop through models\n",
    "for name, model in models.items():\n",
    "    model.fit(X_train, y_train)\n",
    "    y_pred = model.predict(X_test)\n",
    "    \n",
    "    mae = mean_absolute_error(y_test, y_pred)\n",
    "    mse = mean_squared_error(y_test, y_pred)\n",
    "    rmse = np.sqrt(mse)\n",
    "    r2 = r2_score(y_test, y_pred)\n",
    "    \n",
    "    results.append({\n",
    "        \"Model\": name,\n",
    "        \"MAE\": round(mae, 2),\n",
    "        \"MSE\": round(mse, 2),\n",
    "        \"RMSE\": round(rmse, 2),\n",
    "        \"R2 Score\": round(r2, 4)\n",
    "    })\n",
    "\n",
    "# Create results DataFrame\n",
    "results_df = pd.DataFrame(results).sort_values(by=\"R2 Score\", ascending=False)\n",
    "\n",
    "# Display model comparison\n",
    "import matplotlib.pyplot as plt\n",
    "\n",
    "print(\"Model Performance Comparison:\\n\")\n",
    "print(results_df)\n",
    "\n",
    "# Plot R2 Score comparison\n",
    "plt.figure(figsize=(10, 5))\n",
    "plt.bar(results_df[\"Model\"], results_df[\"R2 Score\"])\n",
    "plt.xticks(rotation=45)\n",
    "plt.ylabel(\"R² Score\")\n",
    "plt.title(\"Model Comparison Based on R² Score\")\n",
    "plt.tight_layout()\n",
    "plt.show()\n"
   ]
  },
  {
   "cell_type": "markdown",
   "id": "dcb1f027",
   "metadata": {},
   "source": [
    "# Tuning Ridge Regression"
   ]
  },
  {
   "cell_type": "code",
   "execution_count": 17,
   "id": "7719264c",
   "metadata": {},
   "outputs": [
    {
     "name": "stdout",
     "output_type": "stream",
     "text": [
      "Best Parameters: {'alpha': 1}\n",
      "Best CV Score (R²): 0.868666626318259\n",
      "Test Set Performance:\n",
      "MAE: 4.21\n",
      "MSE: 29.12\n",
      "RMSE: 5.40\n",
      "R²: 0.8803\n"
     ]
    }
   ],
   "source": [
    "from sklearn.linear_model import Ridge\n",
    "from sklearn.model_selection import GridSearchCV\n",
    "\n",
    "# Define model\n",
    "ridge = Ridge()\n",
    "\n",
    "# Define parameter grid\n",
    "param_grid = {\n",
    "    'alpha': [0.01, 0.1, 1, 5, 10, 20, 50]\n",
    "}\n",
    "\n",
    "# Setup GridSearchCV\n",
    "grid_search_ridge = GridSearchCV(\n",
    "    estimator=ridge,\n",
    "    param_grid=param_grid,\n",
    "    scoring='r2',     # Using R² score for regression\n",
    "    cv=5,             # 5-fold cross-validation\n",
    "    n_jobs=-1         # Use all CPU cores\n",
    ")\n",
    "\n",
    "# Fit on training data\n",
    "grid_search_ridge.fit(X_train, y_train)\n",
    "\n",
    "# Best parameters & score\n",
    "print(\"Best Parameters:\", grid_search_ridge.best_params_)\n",
    "print(\"Best CV Score (R²):\", grid_search_ridge.best_score_)\n",
    "\n",
    "# Evaluate on test set\n",
    "best_ridge = grid_search_ridge.best_estimator_\n",
    "y_pred_ridge = best_ridge.predict(X_test)\n",
    "\n",
    "from sklearn.metrics import mean_absolute_error, mean_squared_error, r2_score\n",
    "mae = mean_absolute_error(y_test, y_pred_ridge)\n",
    "mse = mean_squared_error(y_test, y_pred_ridge)\n",
    "rmse = mse ** 0.5\n",
    "r2 = r2_score(y_test, y_pred_ridge)\n",
    "\n",
    "print(\"Test Set Performance:\")\n",
    "print(f\"MAE: {mae:.2f}\")\n",
    "print(f\"MSE: {mse:.2f}\")\n",
    "print(f\"RMSE: {rmse:.2f}\")\n",
    "print(f\"R²: {r2:.4f}\")\n"
   ]
  },
  {
   "cell_type": "code",
   "execution_count": 18,
   "id": "92d174af",
   "metadata": {},
   "outputs": [
    {
     "name": "stdout",
     "output_type": "stream",
     "text": [
      "Fitting 5 folds for each of 243 candidates, totalling 1215 fits\n",
      "Best Parameters: {'learning_rate': 0.05, 'max_depth': 3, 'min_samples_leaf': 4, 'min_samples_split': 2, 'n_estimators': 200}\n",
      "Best CV Score (R²): 0.8501705434355937\n",
      "\n",
      "Test Set Performance:\n",
      "MAE: 4.36\n",
      "MSE: 32.92\n",
      "RMSE: 5.74\n",
      "R²: 0.8647\n"
     ]
    }
   ],
   "source": [
    "from sklearn.ensemble import GradientBoostingRegressor\n",
    "from sklearn.model_selection import GridSearchCV\n",
    "from sklearn.metrics import mean_absolute_error, mean_squared_error, r2_score\n",
    "import numpy as np\n",
    "\n",
    "# Define the model\n",
    "gbr = GradientBoostingRegressor(random_state=42)\n",
    "\n",
    "# Parameter grid\n",
    "param_grid = {\n",
    "    'n_estimators': [100, 200, 300],       # number of boosting stages\n",
    "    'learning_rate': [0.01, 0.05, 0.1],   # step size shrinkage\n",
    "    'max_depth': [3, 4, 5],               # tree depth\n",
    "    'min_samples_split': [2, 5, 10],      # minimum samples to split\n",
    "    'min_samples_leaf': [1, 2, 4]         # minimum samples in a leaf\n",
    "}\n",
    "\n",
    "# Grid search\n",
    "grid_search_gbr = GridSearchCV(\n",
    "    estimator=gbr,\n",
    "    param_grid=param_grid,\n",
    "    cv=5,\n",
    "    scoring='r2',\n",
    "    n_jobs=-1,\n",
    "    verbose=2\n",
    ")\n",
    "\n",
    "# Fit\n",
    "grid_search_gbr.fit(X_train, y_train)\n",
    "\n",
    "# Best parameters and CV score\n",
    "print(\"Best Parameters:\", grid_search_gbr.best_params_)\n",
    "print(\"Best CV Score (R²):\", grid_search_gbr.best_score_)\n",
    "\n",
    "# Predict on test set\n",
    "best_gbr = grid_search_gbr.best_estimator_\n",
    "y_pred_gbr = best_gbr.predict(X_test)\n",
    "\n",
    "# Test set evaluation\n",
    "mae = mean_absolute_error(y_test, y_pred_gbr)\n",
    "mse = mean_squared_error(y_test, y_pred_gbr)\n",
    "rmse = np.sqrt(mse)\n",
    "r2 = r2_score(y_test, y_pred_gbr)\n",
    "\n",
    "print(\"\\nTest Set Performance:\")\n",
    "print(f\"MAE: {mae:.2f}\")\n",
    "print(f\"MSE: {mse:.2f}\")\n",
    "print(f\"RMSE: {rmse:.2f}\")\n",
    "print(f\"R²: {r2:.4f}\")\n"
   ]
  },
  {
   "cell_type": "markdown",
   "id": "277de45c",
   "metadata": {},
   "source": [
    "# Final Model Comparison Table"
   ]
  },
  {
   "cell_type": "code",
   "execution_count": 20,
   "id": "3f6b8bb5",
   "metadata": {},
   "outputs": [
    {
     "data": {
      "application/vnd.microsoft.datawrangler.viewer.v0+json": {
       "columns": [
        {
         "name": "index",
         "rawType": "int64",
         "type": "integer"
        },
        {
         "name": "Model",
         "rawType": "object",
         "type": "string"
        },
        {
         "name": "MAE",
         "rawType": "float64",
         "type": "float"
        },
        {
         "name": "MSE",
         "rawType": "float64",
         "type": "float"
        },
        {
         "name": "RMSE",
         "rawType": "float64",
         "type": "float"
        },
        {
         "name": "R² Score",
         "rawType": "float64",
         "type": "float"
        }
       ],
       "ref": "8f519df6-661d-44cd-809b-cd7d3fb824f3",
       "rows": [
        [
         "0",
         "Linear Regression",
         "4.21",
         "29.1",
         "5.39",
         "0.8804"
        ],
        [
         "1",
         "Ridge Regression",
         "4.21",
         "29.12",
         "5.4",
         "0.8803"
        ],
        [
         "2",
         "Ridge Regression (Tuned)",
         "4.21",
         "29.12",
         "5.4",
         "0.8803"
        ],
        [
         "3",
         "Gradient Boosting",
         "4.28",
         "30.93",
         "5.56",
         "0.8729"
        ],
        [
         "4",
         "Gradient Boosting (Tuned)",
         "4.36",
         "32.92",
         "5.74",
         "0.8647"
        ],
        [
         "5",
         "Random Forest",
         "4.72",
         "36.61",
         "6.05",
         "0.8495"
        ],
        [
         "6",
         "Lasso Regression",
         "5.02",
         "40.49",
         "6.36",
         "0.8336"
        ],
        [
         "7",
         "ElasticNet Regression",
         "6.17",
         "57.63",
         "7.59",
         "0.7632"
        ],
        [
         "8",
         "Decision Tree",
         "6.38",
         "64.64",
         "8.04",
         "0.7344"
        ]
       ],
       "shape": {
        "columns": 5,
        "rows": 9
       }
      },
      "text/html": [
       "<div>\n",
       "<style scoped>\n",
       "    .dataframe tbody tr th:only-of-type {\n",
       "        vertical-align: middle;\n",
       "    }\n",
       "\n",
       "    .dataframe tbody tr th {\n",
       "        vertical-align: top;\n",
       "    }\n",
       "\n",
       "    .dataframe thead th {\n",
       "        text-align: right;\n",
       "    }\n",
       "</style>\n",
       "<table border=\"1\" class=\"dataframe\">\n",
       "  <thead>\n",
       "    <tr style=\"text-align: right;\">\n",
       "      <th></th>\n",
       "      <th>Model</th>\n",
       "      <th>MAE</th>\n",
       "      <th>MSE</th>\n",
       "      <th>RMSE</th>\n",
       "      <th>R² Score</th>\n",
       "    </tr>\n",
       "  </thead>\n",
       "  <tbody>\n",
       "    <tr>\n",
       "      <th>0</th>\n",
       "      <td>Linear Regression</td>\n",
       "      <td>4.21</td>\n",
       "      <td>29.10</td>\n",
       "      <td>5.39</td>\n",
       "      <td>0.8804</td>\n",
       "    </tr>\n",
       "    <tr>\n",
       "      <th>1</th>\n",
       "      <td>Ridge Regression</td>\n",
       "      <td>4.21</td>\n",
       "      <td>29.12</td>\n",
       "      <td>5.40</td>\n",
       "      <td>0.8803</td>\n",
       "    </tr>\n",
       "    <tr>\n",
       "      <th>2</th>\n",
       "      <td>Ridge Regression (Tuned)</td>\n",
       "      <td>4.21</td>\n",
       "      <td>29.12</td>\n",
       "      <td>5.40</td>\n",
       "      <td>0.8803</td>\n",
       "    </tr>\n",
       "    <tr>\n",
       "      <th>3</th>\n",
       "      <td>Gradient Boosting</td>\n",
       "      <td>4.28</td>\n",
       "      <td>30.93</td>\n",
       "      <td>5.56</td>\n",
       "      <td>0.8729</td>\n",
       "    </tr>\n",
       "    <tr>\n",
       "      <th>4</th>\n",
       "      <td>Gradient Boosting (Tuned)</td>\n",
       "      <td>4.36</td>\n",
       "      <td>32.92</td>\n",
       "      <td>5.74</td>\n",
       "      <td>0.8647</td>\n",
       "    </tr>\n",
       "    <tr>\n",
       "      <th>5</th>\n",
       "      <td>Random Forest</td>\n",
       "      <td>4.72</td>\n",
       "      <td>36.61</td>\n",
       "      <td>6.05</td>\n",
       "      <td>0.8495</td>\n",
       "    </tr>\n",
       "    <tr>\n",
       "      <th>6</th>\n",
       "      <td>Lasso Regression</td>\n",
       "      <td>5.02</td>\n",
       "      <td>40.49</td>\n",
       "      <td>6.36</td>\n",
       "      <td>0.8336</td>\n",
       "    </tr>\n",
       "    <tr>\n",
       "      <th>7</th>\n",
       "      <td>ElasticNet Regression</td>\n",
       "      <td>6.17</td>\n",
       "      <td>57.63</td>\n",
       "      <td>7.59</td>\n",
       "      <td>0.7632</td>\n",
       "    </tr>\n",
       "    <tr>\n",
       "      <th>8</th>\n",
       "      <td>Decision Tree</td>\n",
       "      <td>6.38</td>\n",
       "      <td>64.64</td>\n",
       "      <td>8.04</td>\n",
       "      <td>0.7344</td>\n",
       "    </tr>\n",
       "  </tbody>\n",
       "</table>\n",
       "</div>"
      ],
      "text/plain": [
       "                       Model   MAE    MSE  RMSE  R² Score\n",
       "0          Linear Regression  4.21  29.10  5.39    0.8804\n",
       "1           Ridge Regression  4.21  29.12  5.40    0.8803\n",
       "2   Ridge Regression (Tuned)  4.21  29.12  5.40    0.8803\n",
       "3          Gradient Boosting  4.28  30.93  5.56    0.8729\n",
       "4  Gradient Boosting (Tuned)  4.36  32.92  5.74    0.8647\n",
       "5              Random Forest  4.72  36.61  6.05    0.8495\n",
       "6           Lasso Regression  5.02  40.49  6.36    0.8336\n",
       "7      ElasticNet Regression  6.17  57.63  7.59    0.7632\n",
       "8              Decision Tree  6.38  64.64  8.04    0.7344"
      ]
     },
     "execution_count": 20,
     "metadata": {},
     "output_type": "execute_result"
    }
   ],
   "source": [
    "# Original model scores (example from your earlier results)\n",
    "results = [\n",
    "    ['Linear Regression', 4.21, 29.10, 5.39, 0.8804],\n",
    "    ['Ridge Regression', 4.21, 29.12, 5.40, 0.8803],\n",
    "    ['Gradient Boosting', 4.28, 30.93, 5.56, 0.8729],\n",
    "    ['Random Forest', 4.72, 36.61, 6.05, 0.8495],\n",
    "    ['Lasso Regression', 5.02, 40.49, 6.36, 0.8336],\n",
    "    ['ElasticNet Regression', 6.17, 57.63, 7.59, 0.7632],\n",
    "    ['Decision Tree', 6.38, 64.64, 8.04, 0.7344],\n",
    "    ['Ridge Regression (Tuned)', 4.21, 29.12, 5.40, 0.8803],\n",
    "    ['Gradient Boosting (Tuned)', 4.36, 32.92, 5.74, 0.8647]\n",
    "]\n",
    "\n",
    "df_results = pd.DataFrame(results, columns=['Model', 'MAE', 'MSE', 'RMSE', 'R² Score'])\n",
    "\n",
    "# Sort by R² Score (descending)\n",
    "df_results = df_results.sort_values(by='R² Score', ascending=False).reset_index(drop=True)\n",
    "df_results\n"
   ]
  },
  {
   "cell_type": "code",
   "execution_count": 22,
   "id": "c43d85bf",
   "metadata": {},
   "outputs": [
    {
     "data": {
      "image/png": "[encoded data removed]",
      "text/plain": [
       "<Figure size 1000x600 with 1 Axes>"
      ]
     },
     "metadata": {},
     "output_type": "display_data"
    }
   ],
   "source": [
    "plt.figure(figsize=(10, 6))\n",
    "sns.barplot(data=df_results, x='R² Score', y='Model', palette='viridis')\n",
    "\n",
    "plt.title('Model Comparison (R² Score)', fontsize=16)\n",
    "plt.xlabel('R² Score', fontsize=12)\n",
    "plt.ylabel('Model', fontsize=12)\n",
    "plt.xlim(0, 1)  # Since R² is between 0 and 1\n",
    "plt.grid(axis='x', linestyle='--', alpha=0.6)\n",
    "\n",
    "# Annotate scores\n",
    "for i, v in enumerate(df_results['R² Score']):\n",
    "    plt.text(v + 0.01, i, f\"{v:.4f}\", va='center', fontsize=10)\n",
    "\n",
    "plt.show()\n"
   ]
  },
  {
   "cell_type": "markdown",
   "id": "18a1feaf",
   "metadata": {},
   "source": [
    "### Final Model Comparison & Conclusion\n",
    "\n",
    "| Model                 | MAE  | MSE   | RMSE | R² Score   |\n",
    "| --------------------- | ---- | ----- | ---- | ---------- |\n",
    "| **Linear Regression** | 4.21 | 29.10 | 5.39 | **0.8804** |\n",
    "| Ridge Regression      | 4.21 | 29.12 | 5.40 | 0.8803     |\n",
    "| Gradient Boosting     | 4.28 | 30.93 | 5.56 | 0.8729     |\n",
    "| Random Forest         | 4.72 | 36.61 | 6.05 | 0.8495     |\n",
    "| Lasso Regression      | 5.02 | 40.49 | 6.36 | 0.8336     |\n",
    "| ElasticNet Regression | 6.17 | 57.63 | 7.59 | 0.7632     |\n",
    "| Decision Tree         | 6.38 | 64.64 | 8.04 | 0.7344     |\n",
    "\n",
    "Key Insights\n",
    "\n",
    "1. Linear Regression achieved the highest R² score (0.8804), indicating it explains ~88% of   the variance in the target variable.\n",
    "\n",
    "2. Both Linear and Ridge Regression performed almost identically, suggesting low risk of overfitting and stable performance.\n",
    "\n",
    "3. Complex models like Random Forest and Gradient Boosting did not outperform Linear Regression, possibly due to:\n",
    "\n",
    "   - The underlying relationships being mostly linear.\n",
    "   - The dataset being relatively clean and small, reducing the advantage of complex models.\n",
    "\n",
    "4. Lasso and ElasticNet had slightly lower performance, possibly due to excessive feature penalization.\n",
    "\n",
    "5. Decision Tree performed the worst, with high variance and low generalization.\n",
    "\n",
    "Hyperparameter Tuning Results\n",
    "Ridge Regression (Best Parameters): alpha = 1\n",
    "\n",
    "  -Test R²: 0.8803\n",
    "\n",
    "Gradient Boosting (Best Parameters):\n",
    "learning_rate=0.05, max_depth=3, min_samples_leaf=4, min_samples_split=2, n_estimators=200\n",
    "\n",
    "  -Test R²: 0.8647\n",
    "\n",
    "Final Conclusion\n",
    "\n",
    "1. Best Model: Linear Regression\n",
    "\n",
    "   - Simple, interpretable, and best-performing in this dataset.\n",
    "\n",
    "2. Business Recommendation:\n",
    "\n",
    "   - Deploy Linear Regression for production, monitor performance, and periodically re-train with fresh data.\n",
    "\n",
    "   - For larger or more complex datasets, revisit advanced models with additional feature engineering."
   ]
  }
 ],
 "metadata": {
  "kernelspec": {
   "display_name": "base",
   "language": "python",
   "name": "python3"
  },
  "language_info": {
   "codemirror_mode": {
    "name": "ipython",
    "version": 3
   },
   "file_extension": ".py",
   "mimetype": "text/x-python",
   "name": "python",
   "nbconvert_exporter": "python",
   "pygments_lexer": "ipython3",
   "version": "3.11.4"
  }
 },
 "nbformat": 4,
 "nbformat_minor": 5
}
